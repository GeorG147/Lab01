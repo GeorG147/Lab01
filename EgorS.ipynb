{
  "metadata": {
    "language_info": {
      "codemirror_mode": {
        "name": "python",
        "version": 3
      },
      "file_extension": ".py",
      "mimetype": "text/x-python",
      "name": "python",
      "nbconvert_exporter": "python",
      "pygments_lexer": "ipython3",
      "version": "3.8"
    },
    "kernelspec": {
      "name": "python",
      "display_name": "Python (Pyodide)",
      "language": "python"
    }
  },
  "nbformat_minor": 4,
  "nbformat": 4,
  "cells": [
    {
      "cell_type": "code",
      "source": "import numpy as np\nmatrix = np.array( [[11,5,7,0,1],\n                    [4,1,1,0,3],\n                    [10,12,7,5,10],\n                    [11,11,8,12,0],\n                    [0,4,0,9,10]]\n                 )\nq= [0.0, 0.0, 0.69, 0.29, 0.02]\np= [0.0, 0.0, 0.25, 0.43, 0.33]\n\nanswer = {}\n\nlower_price = max([min(x) for x in matrix])\nupper_price = min([max(x) for x in np.rot90(matrix)])\nif lower_price==upper_price:print(\"седловая точка есть\", f\"ответ v={lower_price}\")\nelse:\n  buff=0\n  for i,pin in zip(matrix,p):\n    buff+=pin*sum([x*y for x,y in zip(i,q)])\n  answer[\"H(P,Q)\"]=buff\n  for k, i  in enumerate(np.rot90(matrix),1):\n    answer[\"H(P,B{})\".format(k)]=sum([x*y for x,y in zip(i,p)])\nfor i in [(x,y) for x,y in answer.items()]:\n  print(\"Ответ выйгрыш игрока А в ситуации {0[0]} = {0[1]}\".format(i))",
      "metadata": {
        "trusted": true
      },
      "execution_count": 1,
      "outputs": [
        {
          "name": "stdout",
          "text": "Ответ выйгрыш игрока А в ситуации H(P,Q) = 6.4173\nОтвет выйгрыш игрока А в ситуации H(P,B1) = 5.800000000000001\nОтвет выйгрыш игрока А в ситуации H(P,B2) = 9.38\nОтвет выйгрыш игрока А в ситуации H(P,B3) = 5.1899999999999995\nОтвет выйгрыш игрока А в ситуации H(P,B4) = 9.049999999999999\nОтвет выйгрыш игрока А в ситуации H(P,B5) = 7.2299999999999995\n",
          "output_type": "stream"
        }
      ]
    },
    {
      "cell_type": "code",
      "source": "",
      "metadata": {},
      "execution_count": null,
      "outputs": []
    }
  ]
}